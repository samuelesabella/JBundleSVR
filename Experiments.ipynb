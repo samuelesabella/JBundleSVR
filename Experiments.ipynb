{
 "cells": [
  {
   "cell_type": "code",
   "execution_count": 18,
   "metadata": {},
   "outputs": [
    {
     "name": "stdout",
     "output_type": "stream",
     "text": [
      "SEED: 9506\n"
     ]
    },
    {
     "name": "stderr",
     "output_type": "stream",
     "text": [
      "WARNING: replacing module Utils.\n",
      "WARNING: replacing module Callbacks.\n",
      "WARNING: replacing module BundleMethod.\n",
      "WARNING: replacing module JbSVR.\n",
      "WARNING: replacing module QMax.\n"
     ]
    },
    {
     "data": {
      "text/plain": [
       "train_test_svr"
      ]
     },
     "execution_count": 18,
     "metadata": {},
     "output_type": "execute_result"
    }
   ],
   "source": [
    "include(\"JBundle.jl\")"
   ]
  },
  {
   "cell_type": "markdown",
   "metadata": {},
   "source": [
    "# Testing svr performance"
   ]
  },
  {
   "cell_type": "code",
   "execution_count": null,
   "metadata": {},
   "outputs": [],
   "source": [
    "display(\"text/markdown\", \"### Gauss3\")\n",
    "train_test_svr(\"dataset/gauss3.csv\", 250; ε_tube=1e-2, C=2., σ=3.)\n",
    "\n",
    "display(\"text/markdown\", \"### Carbon nanotubes\")\n",
    "train_test_svr(\"dataset/carbon_nanotubes.csv\", 250; ε_tube=1e-2, C=2., σ=3.)\n",
    "\n",
    "display(\"text/markdown\", \"### ML-CUP\")\n",
    "train_test_svr(\"dataset/ML-CUP19-TR.csv\", 250; ε_tube=1e-2, C=2., σ=3.)"
   ]
  },
  {
   "cell_type": "markdown",
   "metadata": {},
   "source": [
    "# Comparing convergence on ML-Cup250"
   ]
  },
  {
   "cell_type": "code",
   "execution_count": 20,
   "metadata": {},
   "outputs": [
    {
     "name": "stdout",
     "output_type": "stream",
     "text": [
      "[∆: 1.4495071809506044e-12][trainL2: 0.07942][testL2: 0.11711][#B: 56][NN] 35.5%┣┫ 711/2000 [03:05<05:36, 3.8 it/s]\n",
      " [Total time: 187.387391462][OPTIMUM REACHED: 9.379164112033322e-13][f_*: 30.439917557815715] \n",
      "\n"
     ]
    }
   ],
   "source": [
    "train_test_svr(\"dataset/ML-CUP19-TR-SMALL.csv\", 250; \n",
    "                precision=1e-12,\n",
    "                show_plots=false, ε_tube=1e-2, C=2., σ=3.)"
   ]
  },
  {
   "cell_type": "code",
   "execution_count": null,
   "metadata": {},
   "outputs": [
    {
     "name": "stdout",
     "output_type": "stream",
     "text": [
      "# ----- ----- #\n",
      "PR_RS\n",
      "[∆: 4.973799150320701e-13][rel_err: 0.07390614166877116][#B: 67][NN] 34.0%┣┫ 679/2000 [03:58<07:44, 2.8 it/s]]"
     ]
    }
   ],
   "source": [
    "compare_rel_error(\"dataset/ML-CUP19-TR-SMALL.csv\", 30.439917557815715; \n",
    "                  maxtime=10*60, ε_star=1e-7,\n",
    "                  ε_tube=1e-2, C=2., σ=3.)"
   ]
  },
  {
   "cell_type": "code",
   "execution_count": null,
   "metadata": {},
   "outputs": [],
   "source": []
  }
 ],
 "metadata": {
  "kernelspec": {
   "display_name": "Julia 1.4.2",
   "language": "julia",
   "name": "julia-1.4"
  },
  "language_info": {
   "file_extension": ".jl",
   "mimetype": "application/julia",
   "name": "julia",
   "version": "1.4.2"
  }
 },
 "nbformat": 4,
 "nbformat_minor": 4
}
